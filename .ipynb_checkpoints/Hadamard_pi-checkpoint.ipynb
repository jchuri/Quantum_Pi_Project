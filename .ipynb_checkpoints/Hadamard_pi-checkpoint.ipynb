{
 "cells": [
  {
   "cell_type": "code",
   "execution_count": 1,
   "metadata": {},
   "outputs": [],
   "source": [
    "# initialization\n",
    "import numpy as np\n",
    "\n",
    "# importing Qiskit\n",
    "from qiskit import IBMQ, BasicAer\n",
    "from qiskit.providers.ibmq import least_busy\n",
    "from qiskit import QuantumCircuit, execute\n",
    "\n",
    "# import basic plot tools\n",
    "from qiskit.visualization import plot_histogram\n",
    "\n",
    "# running IBM Quantum computer\n",
    "from qiskit.tools.monitor import job_monitor\n",
    "import random as rand\n",
    "\n",
    "        "
   ]
  },
  {
   "cell_type": "code",
   "execution_count": 2,
   "metadata": {},
   "outputs": [
    {
     "data": {
      "text/plain": [
       "<AccountProvider for IBMQ(hub='ibm-q', group='open', project='main')>"
      ]
     },
     "execution_count": 2,
     "metadata": {},
     "output_type": "execute_result"
    }
   ],
   "source": [
    "IBMQ.load_account()"
   ]
  },
  {
   "cell_type": "code",
   "execution_count": 3,
   "metadata": {},
   "outputs": [],
   "source": [
    "def select_backend(backend_type):\n",
    "    if backend_type == 'simulator' : \n",
    "        return BasicAer.get_backend('qasm_simulator')\n",
    "    else: \n",
    "        provider = IBMQ.get_provider(hub='ibm-q')\n",
    "           \n",
    "        return least_busy(provider.backends(filters=lambda x: x.configuration().n_qubits >= (1) and\n",
    "                                           not x.configuration().simulator and x.status().operational==True))"
   ]
  },
  {
   "cell_type": "code",
   "execution_count": 4,
   "metadata": {},
   "outputs": [],
   "source": [
    "def handle_job(job, backend_type):\n",
    "    results = job.result().to_dict()['results']\n",
    "    result = np.array(list(map(lambda x: x[-1], np.concatenate([r['data']['memory'] for r in results]).flat)))\n",
    "    return result\n",
    "    "
   ]
  },
  {
   "cell_type": "code",
   "execution_count": 5,
   "metadata": {},
   "outputs": [],
   "source": [
    "def bin_list_2_pts(bin_list):\n",
    "    bin_int64_list = [''.join(bin_list[i:i+64]) for i in range(0,len(bin_list), 64)]\n",
    "    int_list = list(map(lambda x: int(x,2)/(2**64-1) , bin_int64_list))\n",
    "    pts = [(int_list[i], int_list[i + 1]) for i in range(0, len(int_list), 2)]\n",
    "    return pts"
   ]
  },
  {
   "cell_type": "code",
   "execution_count": 6,
   "metadata": {},
   "outputs": [],
   "source": [
    "def gen_pts(comp_type, backend_type): \n",
    "    if comp_type.lower() == 'classical':\n",
    "        return np.array([(rand.random(), rand.random()) for _ in range(50)])\n",
    "    else: \n",
    "        # Load our saved IBMQ accounts and get the least busy backend device with greater than or equal to (n+1) qubits\n",
    "        qc = QuantumCircuit(1,1)\n",
    "        qc.h(0)\n",
    "        qc.measure(0,0)\n",
    "        \n",
    "        rnd_circuit = [qc for _ in range(50)]\n",
    "        backend = select_backend(backend_type)\n",
    "        print(\"least busy backend: \", backend)\n",
    "        shots = 8192\n",
    "        job = execute(rnd_circuit, backend=backend, shots=shots, optimization_level=3, memory=True)\n",
    "        job_monitor(job, interval = 2)\n",
    "        \n",
    "      \n",
    "        \n",
    "        bin_list = handle_job(job, backend_type)\n",
    "        pts = bin_list_2_pts(bin_list)\n",
    "        return np.array(pts)\n",
    "    "
   ]
  },
  {
   "cell_type": "code",
   "execution_count": 7,
   "metadata": {},
   "outputs": [],
   "source": [
    "def in_circle(pt): \n",
    "    result = pt[0]*pt[0] + pt[1] * pt[1]\n",
    "    return 1 if result <= 1 else 0"
   ]
  },
  {
   "cell_type": "code",
   "execution_count": 23,
   "metadata": {},
   "outputs": [],
   "source": [
    "def calculate_pi(number_of_digits, comp_type, backend_type='simulator'):\n",
    "    pi = 0\n",
    "    pts = list(map(in_circle,  gen_pts(comp_type, backend_type)))\n",
    "    pts_in_square = 0 \n",
    "    pts_in_circle = 0\n",
    "    pi_list = []\n",
    "    while round(pi, number_of_digits - 1) != round(np.pi, number_of_digits - 1):\n",
    "        for pt in pts: \n",
    "            pts_in_square += 1\n",
    "            pts_in_circle += pt\n",
    "            \n",
    "            pi = 4 * pts_in_circle / pts_in_square \n",
    "            pi_list.append(pi)\n",
    "            \n",
    "            if round(pi, number_of_digits - 1) == round(np.pi,number_of_digits -1 ): \n",
    "                return pi, pi_list\n",
    "        print(pi)\n",
    "        pts = list(map(in_circle, gen_pts(comp_type, backend_type)))\n",
    "    return pi, pi_list"
   ]
  },
  {
   "cell_type": "code",
   "execution_count": 9,
   "metadata": {},
   "outputs": [
    {
     "name": "stdout",
     "output_type": "stream",
     "text": [
      "least busy backend:  ibmqx2\n",
      "Job Status: job has successfully run\n",
      "3.14\n",
      "28\n"
     ]
    }
   ],
   "source": [
    "pi, pi_list = calculate_pi(3, 'quantum', backend_type='')\n",
    "print(round(pi,2))\n",
    "print(len(pi_list))\n"
   ]
  },
  {
   "cell_type": "code",
   "execution_count": 10,
   "metadata": {},
   "outputs": [
    {
     "data": {
      "text/plain": [
       "3.142857142857143"
      ]
     },
     "execution_count": 10,
     "metadata": {},
     "output_type": "execute_result"
    }
   ],
   "source": [
    "pi"
   ]
  },
  {
   "cell_type": "code",
   "execution_count": 11,
   "metadata": {},
   "outputs": [],
   "source": [
    "import matplotlib.pyplot as plt"
   ]
  },
  {
   "cell_type": "code",
   "execution_count": 22,
   "metadata": {},
   "outputs": [
    {
     "data": {
      "text/plain": [
       "[<matplotlib.lines.Line2D at 0x7f57ded63a30>]"
      ]
     },
     "execution_count": 22,
     "metadata": {},
     "output_type": "execute_result"
    },
    {
     "data": {
      "image/png": "[encoded data removed]",
      "text/plain": [
       "<Figure size 432x288 with 1 Axes>"
      ]
     },
     "metadata": {
      "needs_background": "light"
     },
     "output_type": "display_data"
    }
   ],
   "source": [
    "%matplotlib inline\n",
    "plt.grid()\n",
    "plt.hlines(np.pi, 0 , len(pi_list), color='red')\n",
    "plt.plot(pi_list)"
   ]
  },
  {
   "cell_type": "code",
   "execution_count": null,
   "metadata": {},
   "outputs": [],
   "source": []
  }
 ],
 "metadata": {
  "kernelspec": {
   "display_name": "Python 3",
   "language": "python",
   "name": "python3"
  },
  "language_info": {
   "codemirror_mode": {
    "name": "ipython",
    "version": 3
   },
   "file_extension": ".py",
   "mimetype": "text/x-python",
   "name": "python",
   "nbconvert_exporter": "python",
   "pygments_lexer": "ipython3",
   "version": "3.8.3"
  }
 },
 "nbformat": 4,
 "nbformat_minor": 4
}
